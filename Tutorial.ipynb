{
  "nbformat": 4,
  "nbformat_minor": 0,
  "metadata": {
    "colab": {
      "provenance": []
    },
    "kernelspec": {
      "name": "python3",
      "display_name": "Python 3"
    },
    "language_info": {
      "name": "python"
    }
  },
  "cells": [
    {
      "cell_type": "code",
      "source": [
        "from google.colab import output\n",
        "output.enable_custom_widget_manager()"
      ],
      "metadata": {
        "id": "cfqk6r5qwJyu"
      },
      "execution_count": null,
      "outputs": []
    },
    {
      "cell_type": "code",
      "source": [
        "# Install LAMMPS from the Ubuntu package repository\n",
        "!apt-get update\n",
        "!apt-get install -y lammps\n"
      ],
      "metadata": {
        "id": "w7amiR7xi9a2"
      },
      "execution_count": null,
      "outputs": []
    },
    {
      "cell_type": "code",
      "source": [
        "!lmp -h"
      ],
      "metadata": {
        "id": "l0EQzMNTlnP7",
        "collapsed": true
      },
      "execution_count": null,
      "outputs": []
    },
    {
      "cell_type": "code",
      "source": [
        "!lmp -in Vac_PEG_input.lammps"
      ],
      "metadata": {
        "id": "gZtdgcf4mNWQ"
      },
      "execution_count": null,
      "outputs": []
    },
    {
      "cell_type": "code",
      "source": [
        "import matplotlib.pyplot as plt\n",
        "\n",
        "# Load the data\n",
        "data = []\n",
        "with open(\"end-to-end-distance.dat\", \"r\") as f:\n",
        "    for line in f:\n",
        "        # Skip empty lines or comments\n",
        "        if line.strip() and not line.startswith(\"#\"):\n",
        "            data.append([float(x) for x in line.split()])\n",
        "\n",
        "# Convert to separate lists\n",
        "time, temperature = zip(*data)\n",
        "\n",
        "# Customize the plot\n",
        "plt.figure(figsize=(10, 6))\n",
        "plt.plot(time, temperature, color=\"darkorange\", linewidth=2, label=\"EtE\")\n",
        "plt.xlabel(\"Time (steps)\")\n",
        "plt.ylabel(\"End-to-End (sigma)\")\n",
        "plt.title(\"End To End Distance\")\n",
        "plt.legend()\n",
        "plt.grid(True)\n",
        "\n",
        "# Show the plot\n",
        "plt.show()\n"
      ],
      "metadata": {
        "id": "JnobCeN0xWXZ"
      },
      "execution_count": null,
      "outputs": []
    },
    {
      "cell_type": "code",
      "source": [
        "!lmp -in Vac_PEG_pull_input.lammps"
      ],
      "metadata": {
        "id": "KUdQKT8XuWDO"
      },
      "execution_count": null,
      "outputs": []
    },
    {
      "cell_type": "code",
      "source": [
        "import matplotlib.pyplot as plt\n",
        "\n",
        "# Load the data\n",
        "data = []\n",
        "with open(\"pull_end-to-end-distance.dat\", \"r\") as f:\n",
        "    for line in f:\n",
        "        # Skip empty lines or comments\n",
        "        if line.strip() and not line.startswith(\"#\"):\n",
        "            data.append([float(x) for x in line.split()])\n",
        "\n",
        "# Convert to separate lists\n",
        "time, temperature = zip(*data)\n",
        "\n",
        "# Customize the plot\n",
        "plt.figure(figsize=(10, 6))\n",
        "plt.plot(time, temperature, color=\"darkblue\", linewidth=2, label=\"EtE\")\n",
        "plt.xlabel(\"Time (steps)\")\n",
        "plt.ylabel(\"End-to-End (sigma)\")\n",
        "plt.title(\"End To End Distance Pulled PEG\")\n",
        "plt.legend()\n",
        "plt.grid(True)\n",
        "\n",
        "# Show the plot\n",
        "plt.show()"
      ],
      "metadata": {
        "id": "Z8ZVJOwCuaUw"
      },
      "execution_count": null,
      "outputs": []
    },
    {
      "cell_type": "code",
      "source": [],
      "metadata": {
        "id": "XP8GEPuLuiiL"
      },
      "execution_count": null,
      "outputs": []
    }
  ]
}